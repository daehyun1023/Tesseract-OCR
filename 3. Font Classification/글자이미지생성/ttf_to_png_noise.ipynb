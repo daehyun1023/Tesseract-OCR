{
 "cells": [
  {
   "cell_type": "markdown",
   "metadata": {},
   "source": [
    "## 기본옵션"
   ]
  },
  {
   "cell_type": "code",
   "execution_count": 1,
   "metadata": {},
   "outputs": [],
   "source": [
    "import sys, os\n",
    "import glob\n",
    "import numpy as np\n",
    "import pandas as pd\n",
    "import matplotlib.pyplot as plt\n",
    "from PIL import Image, ImageDraw, ImageFont\n",
    "\n",
    "import pickle\n",
    "import cv2"
   ]
  },
  {
   "cell_type": "code",
   "execution_count": 2,
   "metadata": {},
   "outputs": [
    {
     "data": {
      "text/plain": [
       "'UTF-8'"
      ]
     },
     "execution_count": 2,
     "metadata": {},
     "output_type": "execute_result"
    }
   ],
   "source": [
    "# 시스템 인코딩 확인용\n",
    "sys.stdout.encoding"
   ]
  },
  {
   "cell_type": "markdown",
   "metadata": {},
   "source": [
    "### 상용 한글 2350개의 음절과 유니코드"
   ]
  },
  {
   "cell_type": "code",
   "execution_count": 4,
   "metadata": {},
   "outputs": [
    {
     "name": "stdout",
     "output_type": "stream",
     "text": [
      "['AC00' 'AC01' 'AC02' ... 'D7A1' 'D7A2' 'D7A3']\n",
      "11172\n"
     ]
    }
   ],
   "source": [
    "# 한국어 음절 유니코드는 AC00~D7A3\n",
    "co = \"0 1 2 3 4 5 6 7 8 9 A B C D E F\"\n",
    "start = \"AC00\"\n",
    "end = \"D7A3\"\n",
    "\n",
    "co = co.split(\" \")\n",
    "syllables = [a+b+c+d\n",
    "            for a in co\n",
    "            for b in co\n",
    "            for c in co\n",
    "            for d in co]\n",
    "\n",
    "# syllables : 가능한 유니코드 전체 조합\n",
    "syllables = np.array(syllables)\n",
    "\n",
    "# 한글 음절 조합 생성 - hangul_syllables 11172개\n",
    "ga = np.where(start == syllables)[0][0]\n",
    "higt = np.where(end == syllables)[0][0]\n",
    "\n",
    "hangul_uni = syllables[ga : higt+1]\n",
    "\n",
    "print(hangul_uni)\n",
    "print(len(hangul_uni))"
   ]
  },
  {
   "cell_type": "code",
   "execution_count": 5,
   "metadata": {},
   "outputs": [
    {
     "name": "stdout",
     "output_type": "stream",
     "text": [
      "가\n"
     ]
    }
   ],
   "source": [
    "# 16진수 유니코드 -> 한글 변환 (확인용, '가'만 프린트)\n",
    "chars = chr(int(hangul_uni[0],16))\n",
    "print(chars)"
   ]
  },
  {
   "cell_type": "code",
   "execution_count": 6,
   "metadata": {},
   "outputs": [
    {
     "data": {
      "text/plain": [
       "2350"
      ]
     },
     "execution_count": 6,
     "metadata": {},
     "output_type": "execute_result"
    }
   ],
   "source": [
    "# 상용한글 2350 음절 \n",
    "file = open('hangul.txt', 'r', encoding='utf-8')\n",
    "using_hangul =list(file.read())\n",
    "using_hangul[0].encode('utf-8')\n",
    "\n",
    "# 상용 한글 2350개\n",
    "len(using_hangul)\n",
    "\n",
    "# 전체 한글 완성자 11172개의 유니코드\n",
    "hangul_uni = hangul_uni.tolist()\n",
    "\n",
    "# 전체 한글 완성자 11172개 한글\n",
    "hangul = list(map(lambda x : chr(int(x, 16)), hangul_uni))\n",
    "\n",
    "\n",
    "index = np.arange(len(hangul))\n",
    "using_index = []\n",
    "for i in range(len(using_hangul)):\n",
    "    for j in range(len(hangul)):\n",
    "        if using_hangul[i] in hangul[j]:\n",
    "            using_index.append(j)\n",
    "            \n",
    "# 상용 2350개의 유니코드\n",
    "using_uni = []\n",
    "for i in range(len(using_index)):\n",
    "    using_uni.append(hangul_uni[using_index[i]])\n",
    "\n",
    "len(using_uni)"
   ]
  },
  {
   "cell_type": "markdown",
   "metadata": {},
   "source": [
    "## TTF-to-PNG\n",
    "### Font List\n",
    "- 바탕 : batang\n",
    "- 돋움 : dotum\n",
    "- 고딕 : gothic\n",
    "- 명조 : myeongjo"
   ]
  },
  {
   "cell_type": "code",
   "execution_count": 8,
   "metadata": {},
   "outputs": [],
   "source": [
    "def ttftopng(list):\n",
    "    font_path = \"fonts/\"+list+\"/\"\n",
    "    font_list=os.listdir(\"fonts/\"+list+\"/\")\n",
    "    \n",
    "    # 폰트별 이미지 저장 \n",
    "    num = np.arange(1,len(using_uni)+1,1).astype(\"str\")\n",
    "\n",
    "    for uni in range(len(num)):\n",
    "        chars = chr(int(using_uni[uni], 16))\n",
    "        path = \"./png/\"+list+\"/\"\n",
    "        os.makedirs(path, exist_ok = True)\n",
    "        for ttf in font_list:\n",
    "            font = ImageFont.truetype(font = font_path + ttf, size = 56)\n",
    "            x, y = font.getsize(chars)\n",
    "        \n",
    "            theImage = Image.new('RGB', (x + 4, y + 4), color='white')\n",
    "            theDrawPad = ImageDraw.Draw(theImage)\n",
    "            theDrawPad.text((0.0, 0.0), chars[0], font=font, fill='black')\n",
    "        \n",
    "            png_name = path + \"/\" + ttf[:-4] + \"_\" + num[uni]\n",
    "            theImage.save('{}.png'.format(png_name))"
   ]
  },
  {
   "cell_type": "code",
   "execution_count": 1,
   "metadata": {},
   "outputs": [],
   "source": [
    "def noise(list):\n",
    "    images=[cv2.imread(file) for file in glob.glob(\"png/\"+list+\"_noise/*.png\")]\n",
    "\n",
    "    # 이미지 전처리 : (16,16) -> 정규화 -> (64,64)\n",
    "    img_16 =[]\n",
    "    for i in range(len(images)):\n",
    "        img_16.append(cv2.resize(images[i],(16,16)))\n",
    "    img_16 = np.array(img_16)\n",
    "    img_16 = img_16.astype('float32') / 255.0\n",
    "\n",
    "    img_64 =[]\n",
    "    for i in range(len(img_16)):\n",
    "        img_64.append(cv2.resize(img_16[i], (64,64)))\n",
    "\n",
    "    # 이미지 블러처리 - 커널사이즈 (5,5)\n",
    "    list+ \"{}\".format(\"_noise\") == []\n",
    "    for i in range(len(img_64)):\n",
    "        list+ \"{}\".format(\"_noise\").append(cv2.blur(img_64[i], (5,5)))\n",
    "        "
   ]
  },
  {
   "cell_type": "code",
   "execution_count": 2,
   "metadata": {},
   "outputs": [],
   "source": [
    "def pngto_noisepkl(list):\n",
    "    with open(\"pickle/\"+list+\"_noise.pkl\",'wb') as a:\n",
    "        pickle.dump(list+\"_noise\", a)"
   ]
  },
  {
   "cell_type": "code",
   "execution_count": 12,
   "metadata": {},
   "outputs": [
    {
     "data": {
      "text/plain": [
       "'noise_batang'"
      ]
     },
     "execution_count": 12,
     "metadata": {},
     "output_type": "execute_result"
    }
   ],
   "source": [
    "\"noise_\"+list[0]"
   ]
  },
  {
   "cell_type": "code",
   "execution_count": null,
   "metadata": {},
   "outputs": [],
   "source": [
    "list = ['batang', 'dotum','gothic','myeongjo']\n",
    "for i in range(len(list)):\n",
    "    ttftopng(list[i])\n",
    "    noise(list[i])\n",
    "    pngto_noisepkl(list[i])"
   ]
  },
  {
   "cell_type": "code",
   "execution_count": null,
   "metadata": {},
   "outputs": [],
   "source": [
    "# 이거 다 되면 합치기"
   ]
  },
  {
   "cell_type": "code",
   "execution_count": null,
   "metadata": {},
   "outputs": [],
   "source": []
  },
  {
   "cell_type": "markdown",
   "metadata": {},
   "source": [
    "### 1. batang  \n",
    "1) ttf to png  \n",
    "2) png to pickle"
   ]
  },
  {
   "cell_type": "code",
   "execution_count": 6,
   "metadata": {},
   "outputs": [
    {
     "data": {
      "text/plain": [
       "['batang.ttf',\n",
       " 'gyeonggicheongnyeonBatangBold.ttf',\n",
       " 'gyeonggicheongnyeonBatangRegular.ttf',\n",
       " 'hamcholongBatangRegular.ttf',\n",
       " 'HANBatangBold.ttf',\n",
       " 'HANBatangExtra.ttf',\n",
       " 'HANBatangExtraBBold.ttf',\n",
       " 'HANBatangExtraBold.ttf',\n",
       " 'IropkeBatangM.ttf',\n",
       " 'UnBatang.ttf']"
      ]
     },
     "execution_count": 6,
     "metadata": {},
     "output_type": "execute_result"
    }
   ],
   "source": [
    "# 바탕 폰트 리스트 저장\n",
    "font_path = \"fonts/batang/\"\n",
    "\n",
    "font_list=os.listdir('fonts/batang/')\n",
    "font_list"
   ]
  },
  {
   "cell_type": "code",
   "execution_count": 24,
   "metadata": {},
   "outputs": [],
   "source": [
    "# 폰트별 이미지 저장 \n",
    "num = np.arange(1,len(using_uni)+1,1).astype(\"str\")\n",
    "\n",
    "for uni in range(len(num)):\n",
    "    chars = chr(int(using_uni[uni], 16))\n",
    "    path = \"./png/batang_noise/\"\n",
    "    os.makedirs(path, exist_ok = True)\n",
    "    for ttf in font_list:\n",
    "        font = ImageFont.truetype(font = font_path + ttf, size = 56)\n",
    "        x, y = font.getsize(chars)\n",
    "        \n",
    "        theImage = Image.new('RGB', (x + 4, y + 4), color='white')\n",
    "        theDrawPad = ImageDraw.Draw(theImage)\n",
    "        theDrawPad.text((0.0, 0.0), chars[0], font=font, fill='black')\n",
    "        \n",
    "        png_name = path + \"/\" + ttf[:-4] + \"_\" + num[uni]\n",
    "        \n",
    "        theImage.save('{}.png'.format(png_name))"
   ]
  },
  {
   "cell_type": "code",
   "execution_count": 11,
   "metadata": {},
   "outputs": [],
   "source": [
    "images=[cv2.imread(file) for file in glob.glob(\"png/batang/*.png\")]\n",
    "\n",
    "# 이미지 전처리 : (16,16) -> 정규화 -> (64,64)\n",
    "img_16 =[]\n",
    "for i in range(len(images)):\n",
    "    img_16.append(cv2.resize(images[i],(16,16)))\n",
    "img_16 = np.array(img_16)\n",
    "img_16 = img_16.astype('float32') / 255.0\n",
    "\n",
    "img_64 =[]\n",
    "for i in range(len(img_16)):\n",
    "    img_64.append(cv2.resize(img_16[i], (64,64)))\n",
    "\n",
    "# 이미지 블러처리 - 커널사이즈 (5,5)\n",
    "batang_noise =[]\n",
    "for i in range(len(img_64)):\n",
    "    batang_noise.append(cv2.blur(img_64[i], (4,4)))\n",
    "\n",
    "# 노이즈 넣은 이미지 확인\n",
    "plt.imshow(cv2.blur(img_64[1423], (4,4)))"
   ]
  },
  {
   "cell_type": "code",
   "execution_count": 17,
   "metadata": {},
   "outputs": [
    {
     "data": {
      "text/plain": [
       "<matplotlib.image.AxesImage at 0x2a88975d988>"
      ]
     },
     "execution_count": 17,
     "metadata": {},
     "output_type": "execute_result"
    },
    {
     "data": {
      "image/png": "[encoded data removed]",
      "text/plain": [
       "<Figure size 432x288 with 1 Axes>"
      ]
     },
     "metadata": {
      "needs_background": "light"
     },
     "output_type": "display_data"
    }
   ],
   "source": [
    "# 노이즈 넣은 이미지 확인\n",
    "plt.imshow(cv2.blur(img_64[475], (1,1)))"
   ]
  },
  {
   "cell_type": "code",
   "execution_count": 24,
   "metadata": {},
   "outputs": [
    {
     "data": {
      "text/plain": [
       "<matplotlib.image.AxesImage at 0x2a8899ce448>"
      ]
     },
     "execution_count": 24,
     "metadata": {},
     "output_type": "execute_result"
    },
    {
     "data": {
      "image/png": "[encoded data removed]",
      "text/plain": [
       "<Figure size 432x288 with 1 Axes>"
      ]
     },
     "metadata": {
      "needs_background": "light"
     },
     "output_type": "display_data"
    }
   ],
   "source": [
    "plt.imshow(cv2.blur(img_64[4663],(4,4)))"
   ]
  },
  {
   "cell_type": "code",
   "execution_count": 15,
   "metadata": {},
   "outputs": [
    {
     "data": {
      "text/plain": [
       "<matplotlib.image.AxesImage at 0x2a88969c448>"
      ]
     },
     "execution_count": 15,
     "metadata": {},
     "output_type": "execute_result"
    },
    {
     "data": {
      "image/png": "[encoded data removed]",
      "text/plain": [
       "<Figure size 432x288 with 1 Axes>"
      ]
     },
     "metadata": {
      "needs_background": "light"
     },
     "output_type": "display_data"
    }
   ],
   "source": [
    "plt.imshow(images[475])"
   ]
  },
  {
   "cell_type": "code",
   "execution_count": 83,
   "metadata": {},
   "outputs": [],
   "source": [
    "# 저장\n",
    "with open('pickle/batang_noise.pkl','wb') as a:\n",
    "    pickle.dump(batang_noise, a)"
   ]
  },
  {
   "cell_type": "markdown",
   "metadata": {},
   "source": [
    "### 2. dotum  \n",
    "1) ttf to png  \n",
    "2) png to pickle"
   ]
  },
  {
   "cell_type": "code",
   "execution_count": 84,
   "metadata": {},
   "outputs": [
    {
     "data": {
      "text/plain": [
       "['Arita4.0B.ttf',\n",
       " 'Arita4.0L.ttf',\n",
       " 'Arita4.0M.ttf',\n",
       " 'Arita4.0SB.ttf',\n",
       " 'Arita4.0T.ttf',\n",
       " 'dotum.ttf',\n",
       " 'HANDotum.ttf',\n",
       " 'HANDotumB.ttf',\n",
       " 'HANDotumExt.ttf',\n",
       " 'UnDotum.ttf']"
      ]
     },
     "execution_count": 84,
     "metadata": {},
     "output_type": "execute_result"
    }
   ],
   "source": [
    "# 돋움 폰트 리스트 저장\n",
    "font_path = \"fonts/dotum/\"\n",
    "\n",
    "font_list=os.listdir('fonts/dotum/')\n",
    "font_list"
   ]
  },
  {
   "cell_type": "code",
   "execution_count": 85,
   "metadata": {},
   "outputs": [],
   "source": [
    "# 폰트별 이미지 저장 \n",
    "num = np.arange(1,len(using_uni)+1,1).astype(\"str\")\n",
    "\n",
    "for uni in range(len(num)):\n",
    "    chars = chr(int(using_uni[uni], 16))\n",
    "    path = \"./png/dotum_noise/\"\n",
    "    os.makedirs(path, exist_ok = True)\n",
    "    for ttf in font_list:\n",
    "        font = ImageFont.truetype(font = font_path + ttf, size = 56)\n",
    "        x, y = font.getsize(chars)\n",
    "        \n",
    "        theImage = Image.new('RGB', (x + 4, y + 4), color='white')\n",
    "        theDrawPad = ImageDraw.Draw(theImage)\n",
    "        theDrawPad.text((0.0, 0.0), chars[0], font=font, fill='black')\n",
    "        \n",
    "        png_name = path + \"/\" + ttf[:-4] + \"_\" + num[uni]\n",
    "        \n",
    "        theImage.save('{}.png'.format(png_name))"
   ]
  },
  {
   "cell_type": "code",
   "execution_count": 25,
   "metadata": {},
   "outputs": [
    {
     "data": {
      "text/plain": [
       "<matplotlib.image.AxesImage at 0x2a88a1d2f08>"
      ]
     },
     "execution_count": 25,
     "metadata": {},
     "output_type": "execute_result"
    },
    {
     "data": {
      "image/png": "[encoded data removed]",
      "text/plain": [
       "<Figure size 432x288 with 1 Axes>"
      ]
     },
     "metadata": {
      "needs_background": "light"
     },
     "output_type": "display_data"
    }
   ],
   "source": [
    "images=[cv2.imread(file) for file in glob.glob(\"png/dotum/*.png\")]\n",
    "\n",
    "# 이미지 전처리 : (16,16) -> 정규화 -> (64,64)\n",
    "img_16 =[]\n",
    "for i in range(len(images)):\n",
    "    img_16.append(cv2.resize(images[i],(16,16)))\n",
    "img_16 = np.array(img_16)\n",
    "img_16 = img_16.astype('float32') / 255.0\n",
    "\n",
    "img_64 =[]\n",
    "for i in range(len(img_16)):\n",
    "    img_64.append(cv2.resize(img_16[i], (64,64)))\n",
    "\n",
    "# 이미지 블러처리 - 커널사이즈 (4,4)\n",
    "dotum_noise =[]\n",
    "for i in range(len(img_64)):\n",
    "    dotum_noise.append(cv2.blur(img_64[i], (4,4)))\n",
    "\n",
    "# 노이즈 넣은 이미지 확인\n",
    "plt.imshow(cv2.blur(img_64[5], (10,10)))"
   ]
  },
  {
   "cell_type": "code",
   "execution_count": 29,
   "metadata": {},
   "outputs": [
    {
     "data": {
      "text/plain": [
       "<matplotlib.image.AxesImage at 0x2a8cc755fc8>"
      ]
     },
     "execution_count": 29,
     "metadata": {},
     "output_type": "execute_result"
    },
    {
     "data": {
      "image/png": "[encoded data removed]",
      "text/plain": [
       "<Figure size 432x288 with 1 Axes>"
      ]
     },
     "metadata": {
      "needs_background": "light"
     },
     "output_type": "display_data"
    }
   ],
   "source": [
    "plt.imshow(cv2.blur(img_64[949],(5,5)))"
   ]
  },
  {
   "cell_type": "code",
   "execution_count": 87,
   "metadata": {},
   "outputs": [],
   "source": [
    "# 저장 \n",
    "with open('pickle/dotum_noise.pkl','wb') as a:\n",
    "    pickle.dump(dotum_noise, a)"
   ]
  },
  {
   "cell_type": "markdown",
   "metadata": {},
   "source": [
    "### 3. gothic  \n",
    "1) ttf to png  \n",
    "2) png to pickle"
   ]
  },
  {
   "cell_type": "code",
   "execution_count": 98,
   "metadata": {},
   "outputs": [
    {
     "data": {
      "text/plain": [
       "['HumanGothic.ttf',\n",
       " 'KBIZhanmaumGothicBold.ttf',\n",
       " 'KBIZhanmaumGothicLight.ttf',\n",
       " 'malgun.ttf',\n",
       " 'malgunbd.ttf',\n",
       " 'malgunsl.ttf',\n",
       " 'NanumBarunGothic-YetHangul.ttf',\n",
       " 'NanumBarunGothic.ttf',\n",
       " 'NanumBarunGothicBold.ttf',\n",
       " 'NanumBarunGothicLight.ttf',\n",
       " 'NanumGothic.ttf',\n",
       " 'NanumGothicBold.ttf',\n",
       " 'NanumGothicLight.ttf',\n",
       " 'YunGothic320.ttf',\n",
       " 'YunGothic340.ttf']"
      ]
     },
     "execution_count": 98,
     "metadata": {},
     "output_type": "execute_result"
    }
   ],
   "source": [
    "# 고딕 폰트 리스트 저장\n",
    "font_path = \"fonts/gothic/\"\n",
    "\n",
    "font_list=os.listdir('fonts/gothic/')\n",
    "font_list"
   ]
  },
  {
   "cell_type": "code",
   "execution_count": 99,
   "metadata": {},
   "outputs": [],
   "source": [
    "# 폰트별 이미지 저장 \n",
    "num = np.arange(1,len(using_uni)+1,1).astype(\"str\")\n",
    "\n",
    "for uni in range(len(num)):\n",
    "    chars = chr(int(using_uni[uni], 16))\n",
    "    path = \"./png/gothic_noise/\"\n",
    "    os.makedirs(path, exist_ok = True)\n",
    "    for ttf in font_list:\n",
    "        font = ImageFont.truetype(font = font_path + ttf, size = 56)\n",
    "        x, y = font.getsize(chars)\n",
    "        \n",
    "        theImage = Image.new('RGB', (x + 4, y + 4), color='white')\n",
    "        theDrawPad = ImageDraw.Draw(theImage)\n",
    "        theDrawPad.text((0.0, 0.0), chars[0], font=font, fill='black')\n",
    "        \n",
    "        png_name = path + \"/\" + ttf[:-4] + \"_\" + num[uni]\n",
    "        \n",
    "        theImage.save('{}.png'.format(png_name))"
   ]
  },
  {
   "cell_type": "code",
   "execution_count": 30,
   "metadata": {},
   "outputs": [
    {
     "data": {
      "text/plain": [
       "<matplotlib.image.AxesImage at 0x2a9d5059ec8>"
      ]
     },
     "execution_count": 30,
     "metadata": {},
     "output_type": "execute_result"
    },
    {
     "data": {
      "image/png": "[encoded data removed]",
      "text/plain": [
       "<Figure size 432x288 with 1 Axes>"
      ]
     },
     "metadata": {
      "needs_background": "light"
     },
     "output_type": "display_data"
    }
   ],
   "source": [
    "images=[cv2.imread(file) for file in glob.glob(\"png/gothic/*.png\")]\n",
    "\n",
    "# 이미지 전처리 : (16,16) -> 정규화 -> (64,64)\n",
    "img_16 =[]\n",
    "for i in range(len(images)):\n",
    "    img_16.append(cv2.resize(images[i],(16,16)))\n",
    "img_16 = np.array(img_16)\n",
    "img_16 = img_16.astype('float32') / 255.0\n",
    "\n",
    "img_64 =[]\n",
    "for i in range(len(img_16)):\n",
    "    img_64.append(cv2.resize(img_16[i], (64,64)))\n",
    "\n",
    "# 이미지 블러처리 - 커널사이즈 (5,5)\n",
    "gothic_noise =[]\n",
    "for i in range(len(img_64)):\n",
    "    gothic_noise.append(cv2.blur(img_64[i], (4,4)))\n",
    "\n",
    "# 노이즈 넣은 이미지 확인\n",
    "plt.imshow(cv2.blur(img_64[0], (4,4)))"
   ]
  },
  {
   "cell_type": "code",
   "execution_count": 34,
   "metadata": {},
   "outputs": [
    {
     "data": {
      "text/plain": [
       "<matplotlib.image.AxesImage at 0x2a9d51fb688>"
      ]
     },
     "execution_count": 34,
     "metadata": {},
     "output_type": "execute_result"
    },
    {
     "data": {
      "image/png": "[encoded data removed]",
      "text/plain": [
       "<Figure size 432x288 with 1 Axes>"
      ]
     },
     "metadata": {
      "needs_background": "light"
     },
     "output_type": "display_data"
    }
   ],
   "source": [
    "plt.imshow(cv2.blur(img_64[5930],(5,5)))"
   ]
  },
  {
   "cell_type": "code",
   "execution_count": 101,
   "metadata": {},
   "outputs": [],
   "source": [
    "# 저장\n",
    "with open('pickle/gothic_noise.pkl','wb') as a:\n",
    "    pickle.dump(gothic_noise, a)"
   ]
  },
  {
   "cell_type": "markdown",
   "metadata": {},
   "source": [
    "### 4. myeongjo  \n",
    "1) ttf to png  \n",
    "2) png to pickle"
   ]
  },
  {
   "cell_type": "code",
   "execution_count": 102,
   "metadata": {},
   "outputs": [
    {
     "data": {
      "text/plain": [
       "['ChosunIlboMyeongjo.ttf',\n",
       " 'HumanMyeongjo.ttf',\n",
       " 'KBIZhanmaumMyeongjoBold.ttf',\n",
       " 'KBIZhanmaumMyeongjoLight.ttf',\n",
       " 'KBIZhanmaumMyeongjoMedium.ttf',\n",
       " 'KBIZhanmaumMyeongjoRegular.ttf',\n",
       " 'NanumMyeongjo-YetHangul.ttf',\n",
       " 'NanumMyeongjo.ttf',\n",
       " 'NanumMyeongjoBold.ttf',\n",
       " 'NanumMyeongjoEcoR.ttf',\n",
       " 'NanumMyeongjoExtraBold.ttf']"
      ]
     },
     "execution_count": 102,
     "metadata": {},
     "output_type": "execute_result"
    }
   ],
   "source": [
    "# 명조 폰트 리스트 저장\n",
    "font_path = \"fonts/myeongjo/\"\n",
    "\n",
    "font_list=os.listdir('fonts/myeongjo/')\n",
    "font_list"
   ]
  },
  {
   "cell_type": "code",
   "execution_count": 103,
   "metadata": {},
   "outputs": [],
   "source": [
    "# 폰트별 이미지 저장 \n",
    "num = np.arange(1,len(using_uni)+1,1).astype(\"str\")\n",
    "\n",
    "for uni in range(len(num)):\n",
    "    chars = chr(int(using_uni[uni], 16))\n",
    "    path = \"./png/myeongjo_noise/\"\n",
    "    os.makedirs(path, exist_ok = True)\n",
    "    for ttf in font_list:\n",
    "        font = ImageFont.truetype(font = font_path + ttf, size = 56)\n",
    "        x, y = font.getsize(chars)\n",
    "        \n",
    "        theImage = Image.new('RGB', (x + 4, y + 4), color='white')\n",
    "        theDrawPad = ImageDraw.Draw(theImage)\n",
    "        theDrawPad.text((0.0, 0.0), chars[0], font=font, fill='black')\n",
    "        \n",
    "        png_name = path + \"/\" + ttf[:-4] + \"_\" + num[uni]\n",
    "        \n",
    "        theImage.save('{}.png'.format(png_name))"
   ]
  },
  {
   "cell_type": "code",
   "execution_count": 35,
   "metadata": {},
   "outputs": [
    {
     "data": {
      "text/plain": [
       "<matplotlib.image.AxesImage at 0x2a8cc9fed88>"
      ]
     },
     "execution_count": 35,
     "metadata": {},
     "output_type": "execute_result"
    },
    {
     "data": {
      "image/png": "[encoded data removed]",
      "text/plain": [
       "<Figure size 432x288 with 1 Axes>"
      ]
     },
     "metadata": {
      "needs_background": "light"
     },
     "output_type": "display_data"
    }
   ],
   "source": [
    "images=[cv2.imread(file) for file in glob.glob(\"png/myeongjo/*.png\")]\n",
    "\n",
    "# 이미지 전처리 : (16,16) -> 정규화 -> (64,64)\n",
    "img_16 =[]\n",
    "for i in range(len(images)):\n",
    "    img_16.append(cv2.resize(images[i],(16,16)))\n",
    "img_16 = np.array(img_16)\n",
    "img_16 = img_16.astype('float32') / 255.0\n",
    "\n",
    "img_64 =[]\n",
    "for i in range(len(img_16)):\n",
    "    img_64.append(cv2.resize(img_16[i], (64,64)))\n",
    "\n",
    "# 이미지 블러처리 - 커널사이즈 (5,5)\n",
    "myeongjo_noise =[]\n",
    "for i in range(len(img_64)):\n",
    "    myeongjo_noise.append(cv2.blur(img_64[i], (4,4)))\n",
    "\n",
    "# 노이즈 넣은 이미지 확인\n",
    "plt.imshow(cv2.blur(img_64[0], (4,4)))"
   ]
  },
  {
   "cell_type": "code",
   "execution_count": 36,
   "metadata": {},
   "outputs": [
    {
     "data": {
      "text/plain": [
       "<matplotlib.image.AxesImage at 0x2a8cca609c8>"
      ]
     },
     "execution_count": 36,
     "metadata": {},
     "output_type": "execute_result"
    },
    {
     "data": {
      "image/png": "[encoded data removed]",
      "text/plain": [
       "<Figure size 432x288 with 1 Axes>"
      ]
     },
     "metadata": {
      "needs_background": "light"
     },
     "output_type": "display_data"
    }
   ],
   "source": [
    "plt.imshow(cv2.blur(img_64[6666],(5,5)))"
   ]
  },
  {
   "cell_type": "code",
   "execution_count": 105,
   "metadata": {},
   "outputs": [],
   "source": [
    "with open('pickle/myeongjo_noise.pkl','wb') as a:\n",
    "    pickle.dump(myeongjo_noise, a)"
   ]
  },
  {
   "cell_type": "code",
   "execution_count": null,
   "metadata": {},
   "outputs": [],
   "source": []
  }
 ],
 "metadata": {
  "kernelspec": {
   "display_name": "Python 3",
   "language": "python",
   "name": "python3"
  },
  "language_info": {
   "codemirror_mode": {
    "name": "ipython",
    "version": 3
   },
   "file_extension": ".py",
   "mimetype": "text/x-python",
   "name": "python",
   "nbconvert_exporter": "python",
   "pygments_lexer": "ipython3",
   "version": "3.7.6"
  }
 },
 "nbformat": 4,
 "nbformat_minor": 4
}
