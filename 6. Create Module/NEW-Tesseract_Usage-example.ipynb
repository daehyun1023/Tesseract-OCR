{
 "cells": [
  {
   "cell_type": "code",
   "execution_count": 1,
   "metadata": {},
   "outputs": [],
   "source": [
    "# set up your image directory \n",
    "import os\n",
    "import sys"
   ]
  },
  {
   "cell_type": "code",
   "execution_count": 2,
   "metadata": {},
   "outputs": [
    {
     "data": {
      "text/plain": [
       "['C:\\\\Users\\\\duadp\\\\Test',\n",
       " 'C:\\\\Users\\\\duadp\\\\anaconda3\\\\python37.zip',\n",
       " 'C:\\\\Users\\\\duadp\\\\anaconda3\\\\DLLs',\n",
       " 'C:\\\\Users\\\\duadp\\\\anaconda3\\\\lib',\n",
       " 'C:\\\\Users\\\\duadp\\\\anaconda3',\n",
       " '',\n",
       " 'C:\\\\Users\\\\duadp\\\\anaconda3\\\\lib\\\\site-packages',\n",
       " 'C:\\\\Users\\\\duadp\\\\anaconda3\\\\lib\\\\site-packages\\\\win32',\n",
       " 'C:\\\\Users\\\\duadp\\\\anaconda3\\\\lib\\\\site-packages\\\\win32\\\\lib',\n",
       " 'C:\\\\Users\\\\duadp\\\\anaconda3\\\\lib\\\\site-packages\\\\Pythonwin',\n",
       " 'C:\\\\Users\\\\duadp\\\\anaconda3\\\\lib\\\\site-packages\\\\IPython\\\\extensions',\n",
       " 'C:\\\\Users\\\\duadp\\\\.ipython']"
      ]
     },
     "execution_count": 2,
     "metadata": {},
     "output_type": "execute_result"
    }
   ],
   "source": [
    "# sys.path.append('모듈 저장한 경로') 한 후 import\n",
    "# sys.path.append('C:/Users/duadp/Test')\n",
    "sys.path"
   ]
  },
  {
   "cell_type": "code",
   "execution_count": 3,
   "metadata": {},
   "outputs": [],
   "source": [
    "import new_Tesseract\n",
    "from new_Tesseract import image_to_txt"
   ]
  },
  {
   "cell_type": "code",
   "execution_count": 4,
   "metadata": {},
   "outputs": [],
   "source": [
    "image_dir = 'C:/Users/duadp/Test/image/'\n",
    "os.chdir(image_dir)\n",
    "image_list = os.listdir(image_dir)\n",
    "image=image_list[0]"
   ]
  },
  {
   "cell_type": "code",
   "execution_count": 5,
   "metadata": {},
   "outputs": [
    {
     "data": {
      "text/plain": [
       "'C:/Users/duadp/Test/image/'"
      ]
     },
     "execution_count": 5,
     "metadata": {},
     "output_type": "execute_result"
    }
   ],
   "source": [
    "image_dir"
   ]
  },
  {
   "cell_type": "code",
   "execution_count": 11,
   "metadata": {},
   "outputs": [
    {
     "name": "stdout",
     "output_type": "stream",
     "text": [
      "Run time :  19.678397178649902\n",
      "=========================================\n"
     ]
    }
   ],
   "source": [
    "A=image_to_txt(image,image_dir,FC=False,Img_pre=False)"
   ]
  },
  {
   "cell_type": "code",
   "execution_count": 10,
   "metadata": {},
   "outputs": [
    {
     "name": "stdout",
     "output_type": "stream",
     "text": [
      "[  식\n",
      "를 수지비경\n",
      "니 0 반부패의 날029을 계기로 「반부패 주간」 을 운영하여 반부패\n",
      "청렴에 대한 국민적 관심을 제고하고 강력한 반부패 정책 추진에\n",
      "대한 사회적 공감대를 형성\n",
      "0 19년에는 0 반부패의 날02.9.을 중심으로 12. 5.~11.(7일간)\n",
      "' 반부패 주간 운영 예정\n",
      "* '03.12.9 멕시코 메리다에서 4 반부패협약 조인식을 개최하고, 이를 기념\n",
      "하는 뜻에서 매년 12월 9일을 '세계 반부패의 날'로 지정\n",
      "니 다양한 문화적 접근을 통해 국민들이 쉽게 참여하여 일상 생활 속\n",
      "에서 반부패청렴을 인식하고 실천할 수 있는 기회를 확대\n",
      "~                    르\n",
      "내 2019년 반부패 주간 추진방향\n",
      "ㄴ\n",
      "목피 모두가 함께 청렴한 대한민국\n",
      "시민과 함께         공직자와 함께      미래세대와 함께\n",
      "ㆍ 시민이 참여할 수 | ㆍ 반부패 주간 동안 | ＊ 다양한 연령대\n",
      "있는 프로그램 기획 | 기관 자체적으로     참여 유도\n",
      "(기념식, 특강,     교육, 캠페인 등     (청렴캠프, 인형극,\n",
      "체험부스 등)     행사 추진        청렴체험 등)\n",
      "ㆍ 골든벨, 청렴콘서트\n",
      "등을 통해 참여\n",
      "기회 제공\n",
      "， (온라인) 545 청백리포터, 권익전 등 활용 현장 중계\n",
      "， (오프라인) 대형현수막, 가로등 배너 등을 활용해 반부패 주간 홍보\n",
      "- 1 -\n"
     ]
    }
   ],
   "source": [
    "print(A)"
   ]
  },
  {
   "cell_type": "code",
   "execution_count": null,
   "metadata": {},
   "outputs": [],
   "source": []
  },
  {
   "cell_type": "code",
   "execution_count": null,
   "metadata": {},
   "outputs": [],
   "source": []
  }
 ],
 "metadata": {
  "kernelspec": {
   "display_name": "Python 3",
   "language": "python",
   "name": "python3"
  },
  "language_info": {
   "codemirror_mode": {
    "name": "ipython",
    "version": 3
   },
   "file_extension": ".py",
   "mimetype": "text/x-python",
   "name": "python",
   "nbconvert_exporter": "python",
   "pygments_lexer": "ipython3",
   "version": "3.7.6"
  }
 },
 "nbformat": 4,
 "nbformat_minor": 4
}
