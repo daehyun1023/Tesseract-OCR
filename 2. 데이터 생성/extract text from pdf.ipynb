{
 "cells": [
  {
   "cell_type": "markdown",
   "metadata": {},
   "source": [
    "## PDF에서 TEXT만 추출하기\n",
    "- for test   \n",
    "- for training_text file of tesseract"
   ]
  },
  {
   "cell_type": "code",
   "execution_count": 1,
   "metadata": {},
   "outputs": [],
   "source": [
    "# !pip install pdftotext\n",
    "# import pdftotext\n",
    "# !pip install tika\n",
    "import tika\n",
    "from tika import parser\n",
    "import sys, glob, os\n",
    "import PyPDF2\n",
    "# !pip install PyPDF2\n",
    "# 7번 - 표 있는 것, 63번 - 텍스트만 있는 것"
   ]
  },
  {
   "cell_type": "code",
   "execution_count": 2,
   "metadata": {},
   "outputs": [],
   "source": [
    "os.chdir('documents/presentation')"
   ]
  },
  {
   "cell_type": "code",
   "execution_count": 3,
   "metadata": {},
   "outputs": [],
   "source": [
    "# pdf를 txt문서로 저장해주는 함수\n",
    "def pdf_to_txt(pdf, num):\n",
    "    text = parser.from_file(pdf)\n",
    "    txt = open(\"text_\"+num+\".txt\", \"w\", encoding='utf-8')\n",
    "    txt.writelines(text['content'])\n",
    "    txt.close()"
   ]
  },
  {
   "cell_type": "code",
   "execution_count": 4,
   "metadata": {},
   "outputs": [],
   "source": [
    "# 변수 설정\n",
    "pdf = glob.glob(\"*.pdf\")\n",
    "num = []\n",
    "for i in range(len(pdf)):\n",
    "    num.append(pdf[i][:-4])"
   ]
  },
  {
   "cell_type": "code",
   "execution_count": 5,
   "metadata": {},
   "outputs": [
    {
     "name": "stderr",
     "output_type": "stream",
     "text": [
      "2020-10-18 14:52:27,146 [MainThread  ] [INFO ]  Retrieving http://search.maven.org/remotecontent?filepath=org/apache/tika/tika-server/1.24/tika-server-1.24.jar to C:\\Users\\duadp\\AppData\\Local\\Temp\\tika-server.jar.\n",
      "2020-10-18 14:52:34,548 [MainThread  ] [INFO ]  Retrieving http://search.maven.org/remotecontent?filepath=org/apache/tika/tika-server/1.24/tika-server-1.24.jar.md5 to C:\\Users\\duadp\\AppData\\Local\\Temp\\tika-server.jar.md5.\n",
      "2020-10-18 14:52:36,326 [MainThread  ] [WARNI]  Failed to see startup log message; retrying...\n"
     ]
    }
   ],
   "source": [
    "# 모든 pdf 문서 txt파일로 변환\n",
    "for i in range(len(pdf)):\n",
    "    pdf_to_txt(pdf[i], num[i])"
   ]
  },
  {
   "cell_type": "markdown",
   "metadata": {},
   "source": [
    "### txt파일 전처리"
   ]
  },
  {
   "cell_type": "code",
   "execution_count": 6,
   "metadata": {},
   "outputs": [],
   "source": [
    "import pandas as pd\n",
    "import numpy as np\n",
    "import re\n",
    "import warnings\n",
    "warnings.filterwarnings('ignore')"
   ]
  },
  {
   "cell_type": "code",
   "execution_count": 7,
   "metadata": {},
   "outputs": [],
   "source": [
    "# 모든 텍스트 파일을 list로 읽기\n",
    "file = glob.glob(\"*.txt\")\n",
    "\n",
    "text_list = []\n",
    "for i in range(len(file)):\n",
    "    f = open(file[i],\"r\", encoding=\"utf-8\")\n",
    "    text_list.append(f.read())\n",
    "    f.close()"
   ]
  },
  {
   "cell_type": "code",
   "execution_count": 8,
   "metadata": {},
   "outputs": [],
   "source": [
    "# 지워야할게 \\n -> 일단 이거만 지우기\n",
    "for i in range(len(text_list)):\n",
    "    cleantxt = re.sub('\\n','',text_list[i])\n",
    "    text = open(\"clean_text\"+str(i)+\".txt\",\"w\", encoding='utf-8')\n",
    "    text.writelines(cleantxt)\n",
    "    text.close()"
   ]
  },
  {
   "cell_type": "code",
   "execution_count": 10,
   "metadata": {},
   "outputs": [
    {
     "data": {
      "text/plain": [
       "'공무원직장협의회의 설립ㆍ운영에 관한 법률 법제처  1 국가법령정보센터 공무원직장협의회의 설립ㆍ운영에 관한 법률 ( 약칭: 공무원직협법 ) [시행 2013. 12. 12.] [법률 제11530호, 2012. 12. 11., 타법개정] 행정안전부(공무원단체과) 044-205-3282  제1조(목적) 이 법은 공무원의 근무환경 개선, 업무능률 향상 및 고충처리 등을 위한 직장협의회의 설립과 운영에 관한 기본적인 사항을 규정함을 목적으로 한다. [전문개정 2010. 3. 12.]  제2조(설립) ① 국가기관, 지방자치단체 및 그 하부기관에 근무하는 공무원은 직장협의회(이하 \"협의회\"라 한다)를 설립할 수 있다. ② 협의회는 기관 단위로 설립하되, 하나의 기관에는 하나의 협의회만을 설립할 수 있다. ③ 협의회를 설립한 경우 그 대표자는 소속 기관의 장(이하 \"기관장\"이라 한다)에게 설립 사실을 통보하여야 한다. [전문개정 2010. 3. 12.]  제3조(가입 범위) ① 협의회에 가입할 수 있는 공무원의 범위는 다음 각 호와 같다. <개정 2011. 5. 23.> 1. 6급 이하의 일반직공무원 및 이에 준하는 일반직공무원 2. 특정직공무원 중 재직 경력 10년 미만의 외무영사직렬ㆍ외교정보기술직렬 외무공무원 3. 삭제<2012. 12. 11.> 4. 삭제<2011. 5. 23.> 5. 제1호의 일반직공무원에 상당하는 별정직공무원 ② 제1항에도 불구하고 다음 각 호의 어느 하나에 해당하는 공무원은 협의회에 가입할 수 없다. 1. 「국가공무원법」 제66조제1항 단서 및 「지방공무원법」 제58조제1항 단서에 따라 노동운동이 허용되는 공무원 2. 지휘ㆍ감독의 직책에 있는 공무원 3. 인사, 예산, 경리, 물품출납, 비서, 기밀, 보안, 경비, 자동차운전 및 그 밖에 이와 유사한 업무에 종사하는 공무원 [전문개정 2010. 3. 12.]  제3조(가입 범위) ① 협의회에 가입할 수 있는 공무원의 범위는 다음 각 호와 같다. <개정 2011. 5. 23., 2019. 12. 10.> 공무원직장협의회의 설립ㆍ운영에 관한 법률 법제처  2 국가법령정보센터 1. 6급 이하의 일반직공무원 및 이에 준하는 일반직공무원 2. 특정직공무원 중 다음 각 목의 어느 하나에 해당하는 공무원 가. 재직 경력 10년 미만의 외무영사직렬ㆍ외교정보기술직렬 외무공무원 나. 경감 이하의 경찰공무원 다. 소방경 이하의 소방공무원 3. 삭제<2012. 12. 11.> 4. 삭제<2011. 5. 23.> 5. 제1호의 일반직공무원에 상당하는 별정직공무원 ② 제1항에도 불구하고 다음 각 호의 어느 하나에 해당하는 공무원은 협의회에 가입할 수 없다.<개정 2019. 12. 10.> 1. 「국가공무원법」 제66조제1항 단서 및 「지방공무원법」 제58조제1항 단서에 따라 노동운동이 허용되는 공무원 2. 지휘ㆍ감독의 직책에 있는 공무원 3. 인사, 예산, 경리, 물품출납, 비서, 기밀, 보안, 경비 및 그 밖에 이와 유사한 업무에 종사하는 공무원 ③ 기관장은 해당 기관의 직책 또는 업무 중 제2항제2호 및 제3호에 따라 협의회에의 가입이 금지되는 직책 또는 업무를 협의회와 협의하여 지정하고 이를 공고하여야 한다.<신설 2019. 12. 10.> [전문개정 2010. 3. 12.]  제4조(가입 및 탈퇴의 자유) 공무원은 자유로이 협의회에 가입하거나 협의회를 탈퇴할 수 있다. [전문개정 2010. 3. 12.]  제5조(협의회의 기능) ① 협의회는 기관장과 다음 각 호의 사항을 협의한다. 1. 해당 기관 고유의 근무환경 개선에 관한 사항 2. 업무능률 향상에 관한 사항 3. 소속 공무원의 공무와 관련된 일반적 고충에 관한 사항 4. 그 밖에 기관의 발전에 관한 사항 ② 협의회는 제1항에 따른 협의를 할 때 협의회 구성원의 직급 등을 고려하여 협의회 구성원의 의사를 고루 대변할 수 있는 협의위원을 선임(選任)하여야 한다. [전문개정 2010. 3. 12.]  제6조(기관장의 의무) ① 기관장은 협의회가 문서로 명시하여 협의를 요구하면 성실히 공무원직장협의회의 설립ㆍ운영에 관한 법률 법제처  3 국가법령정보센터 협의하여야 한다. ② 기관장은 협의회와 문서로 합의한 사항에 대하여는 최대한 이를 이행하도록 노력하여야 한다. ③ 기관장은 협의회의 조직 및 운영과 관련하여 소속 공무원에게 불리한 조치를 하여서는 아니 된다. [전문개정 2010. 3. 12.]  제7조(협의회의 구성 및 운영 등에 관한 세부사항) 협의회의 설립 단위, 가입 범위, 그 밖에 협의회의 구성에 관한 사항과 협의위원의 선임, 협의회의 협의절차ㆍ시기ㆍ방법, 그 밖에 협의회의 운영에 필요한 사항은 국회규칙, 대법원규칙, 헌법재판소규칙, 중앙선거관리위원회규칙, 대통령령 또는 조례로 정한다. [전문개정 2010. 3. 12.]  '"
      ]
     },
     "execution_count": 10,
     "metadata": {},
     "output_type": "execute_result"
    }
   ],
   "source": [
    "re.sub('\\n','',text_list[0])"
   ]
  },
  {
   "cell_type": "code",
   "execution_count": null,
   "metadata": {},
   "outputs": [],
   "source": []
  }
 ],
 "metadata": {
  "kernelspec": {
   "display_name": "Python 3",
   "language": "python",
   "name": "python3"
  },
  "language_info": {
   "codemirror_mode": {
    "name": "ipython",
    "version": 3
   },
   "file_extension": ".py",
   "mimetype": "text/x-python",
   "name": "python",
   "nbconvert_exporter": "python",
   "pygments_lexer": "ipython3",
   "version": "3.7.6"
  }
 },
 "nbformat": 4,
 "nbformat_minor": 4
}
